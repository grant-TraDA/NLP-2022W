{
 "cells": [
  {
   "cell_type": "code",
   "execution_count": 1,
   "id": "7da08e73",
   "metadata": {},
   "outputs": [],
   "source": [
    "import pandas as pd\n",
    "import numpy as np\n",
    "import json\n",
    "from sklearn.metrics import cohen_kappa_score"
   ]
  },
  {
   "cell_type": "code",
   "execution_count": 6,
   "id": "408f2468",
   "metadata": {},
   "outputs": [],
   "source": [
    "df = pd.read_csv('Annotation_Task.csv', header=None)"
   ]
  },
  {
   "cell_type": "code",
   "execution_count": null,
   "id": "655e0dc5",
   "metadata": {},
   "outputs": [],
   "source": [
    "# writing the file for the annotator"
   ]
  },
  {
   "cell_type": "code",
   "execution_count": null,
   "id": "b4be0970",
   "metadata": {},
   "outputs": [],
   "source": [
    "with open('reviews.txt', 'w', encoding='utf-8') as f:\n",
    "    for line in df[1]:\n",
    "        f.write(line)\n",
    "        f.write('\\n')"
   ]
  },
  {
   "cell_type": "markdown",
   "id": "24e4d3e5",
   "metadata": {},
   "source": [
    "## Files after annotations"
   ]
  },
  {
   "cell_type": "code",
   "execution_count": 6,
   "id": "5e1c3937",
   "metadata": {},
   "outputs": [],
   "source": [
    "with open('annotations_DP.json', 'r', encoding='utf-8') as f:\n",
    "    jf = json.load(f)"
   ]
  },
  {
   "cell_type": "code",
   "execution_count": 7,
   "id": "226f2e63",
   "metadata": {},
   "outputs": [],
   "source": [
    "with open('annotations_AP.json', 'r', encoding='utf-8') as f:\n",
    "    jfd = json.load(f)"
   ]
  },
  {
   "cell_type": "code",
   "execution_count": 1,
   "id": "2f306085",
   "metadata": {},
   "outputs": [],
   "source": [
    "# third annotation file to compare results"
   ]
  },
  {
   "cell_type": "code",
   "execution_count": 64,
   "id": "a7023bea",
   "metadata": {},
   "outputs": [],
   "source": [
    "with open('annotations_compare.json', 'r', encoding='utf-8') as f:\n",
    "    jfa = json.load(f)"
   ]
  },
  {
   "cell_type": "markdown",
   "id": "964378a4",
   "metadata": {},
   "source": [
    "## Cohen-Kappa"
   ]
  },
  {
   "cell_type": "code",
   "execution_count": 79,
   "id": "3c2ac0b0",
   "metadata": {},
   "outputs": [],
   "source": [
    "labels1 = []\n",
    "labels2 = []\n",
    "for i in range(len(jf['annotations'])):\n",
    "    en1 = jf['annotations'][i][1]['entities']\n",
    "    en2 = jfd['annotations'][i][1]['entities']\n",
    "    en3 = jfa['annotations'][i][1]['entities']\n",
    "    set_all = set()\n",
    "    set_left = set()\n",
    "    set_right = set()\n",
    "    for j in range(len(en1)):\n",
    "        set_all.add(tuple(en1[j][0:2]))\n",
    "        set_left.add(tuple(en1[j][0:2]))\n",
    "    for k in range(len(en2)):\n",
    "        set_all.add(tuple(en2[k][0:2]))\n",
    "        set_right.add(tuple(en2[k][0:2])) \n",
    "    for t in range(len(en3)):\n",
    "        set_all.add(tuple(en3[t][0:2]))\n",
    "    for elem in set_all:\n",
    "        if (elem in set_left) and (elem in set_right):\n",
    "            labels1.append(0)\n",
    "            labels2.append(0)\n",
    "        elif (elem in set_right) and (elem in set_all):\n",
    "            labels1.append(1)\n",
    "            labels2.append(2)\n",
    "        elif (elem in set_left) and (elem in set_all):\n",
    "            labels1.append(2)\n",
    "            labels2.append(1)\n",
    "        else:\n",
    "            labels1.append(2)\n",
    "            labels2.append(2)"
   ]
  },
  {
   "cell_type": "code",
   "execution_count": 80,
   "id": "fd168cf8",
   "metadata": {},
   "outputs": [
    {
     "data": {
      "text/plain": [
       "0.404281098546042"
      ]
     },
     "execution_count": 80,
     "metadata": {},
     "output_type": "execute_result"
    }
   ],
   "source": [
    "cohen_kappa_score(labels1, labels2)"
   ]
  },
  {
   "cell_type": "markdown",
   "id": "5555f998",
   "metadata": {},
   "source": [
    "## F1-score"
   ]
  },
  {
   "cell_type": "code",
   "execution_count": null,
   "id": "5bbf69c9",
   "metadata": {},
   "outputs": [],
   "source": [
    "f = open(\"annotations_AP.json\")\n",
    "anno1 = json.load(f)"
   ]
  },
  {
   "cell_type": "code",
   "execution_count": 3,
   "id": "81fc62af",
   "metadata": {},
   "outputs": [],
   "source": [
    "f = open(\"annotations_DP.json\")\n",
    "anno2 = json.load(f)"
   ]
  },
  {
   "cell_type": "code",
   "execution_count": 4,
   "id": "995dfd1a",
   "metadata": {},
   "outputs": [],
   "source": [
    "def f1_score(anno1, anno2):\n",
    "    assert(len(anno1['annotations']) == len(anno2['annotations']))\n",
    "    TP = 0\n",
    "    TN = 0\n",
    "    FP = 0\n",
    "    for i in range(len(anno1['annotations'])):\n",
    "        entities1 = anno1['annotations'][i][1]['entities']\n",
    "        entities2 = anno2['annotations'][i][1]['entities']\n",
    "        common_entities_count = 0\n",
    "        for anno in entities1:\n",
    "            if anno in entities2:\n",
    "                common_entities_count+=1\n",
    "        TP += common_entities_count\n",
    "        TN += len(entities1) - common_entities_count\n",
    "        FP += len(entities2) - common_entities_count\n",
    "    return(2*TP/(2*TP+TN+FP))"
   ]
  },
  {
   "cell_type": "code",
   "execution_count": 5,
   "id": "1b078392",
   "metadata": {},
   "outputs": [
    {
     "data": {
      "text/plain": [
       "0.8217522658610272"
      ]
     },
     "execution_count": 5,
     "metadata": {},
     "output_type": "execute_result"
    }
   ],
   "source": [
    "f1_score(anno1, anno2)"
   ]
  },
  {
   "cell_type": "code",
   "execution_count": 6,
   "id": "c4782c27",
   "metadata": {},
   "outputs": [],
   "source": [
    "f = open(\"annotations_compare.json\")\n",
    "anno3 = json.load(f)"
   ]
  },
  {
   "cell_type": "code",
   "execution_count": 7,
   "id": "fbd57814",
   "metadata": {},
   "outputs": [
    {
     "data": {
      "text/plain": [
       "0.8504983388704319"
      ]
     },
     "execution_count": 7,
     "metadata": {},
     "output_type": "execute_result"
    }
   ],
   "source": [
    "f1_score(anno3, anno2)"
   ]
  }
 ],
 "metadata": {
  "kernelspec": {
   "display_name": "Python 3 (ipykernel)",
   "language": "python",
   "name": "python3"
  },
  "language_info": {
   "codemirror_mode": {
    "name": "ipython",
    "version": 3
   },
   "file_extension": ".py",
   "mimetype": "text/x-python",
   "name": "python",
   "nbconvert_exporter": "python",
   "pygments_lexer": "ipython3",
   "version": "3.8.12"
  }
 },
 "nbformat": 4,
 "nbformat_minor": 5
}
